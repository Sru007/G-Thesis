{
 "cells": [
  {
   "cell_type": "code",
   "execution_count": 2,
   "id": "cd1c8777-21bd-4557-b6cc-022b8ed9f940",
   "metadata": {},
   "outputs": [
    {
     "name": "stdout",
     "output_type": "stream",
     "text": [
      "Collecting findspark\n",
      "  Downloading findspark-2.0.1-py2.py3-none-any.whl (4.4 kB)\n",
      "Installing collected packages: findspark\n",
      "Successfully installed findspark-2.0.1\n",
      "Note: you may need to restart the kernel to use updated packages.\n"
     ]
    }
   ],
   "source": [
    "pip install findspark"
   ]
  },
  {
   "cell_type": "code",
   "execution_count": 8,
   "id": "4bdbb90e-31f7-4a56-86f7-62f9c7455c93",
   "metadata": {},
   "outputs": [
    {
     "name": "stderr",
     "output_type": "stream",
     "text": [
      "Setting default log level to \"WARN\".\n",
      "To adjust logging level use sc.setLogLevel(newLevel). For SparkR, use setLogLevel(newLevel).\n",
      "24/11/08 14:36:14 WARN NativeCodeLoader: Unable to load native-hadoop library for your platform... using builtin-java classes where applicable\n"
     ]
    }
   ],
   "source": [
    "import findspark\n",
    "findspark.init('/opt/spark/spark-3.4.4-bin-hadoop3')  # Set to the Spark root directory\n",
    "from pyspark.sql import SparkSession\n",
    "\n",
    "# Initialize Spark session\n",
    "spark = SparkSession.builder \\\n",
    "    .appName(\"IntrusionDetection\") \\\n",
    "    .getOrCreate()\n"
   ]
  },
  {
   "cell_type": "code",
   "execution_count": 7,
   "id": "73fde7a8-ea67-482e-9bbb-2ee724e525be",
   "metadata": {},
   "outputs": [
    {
     "ename": "IndentationError",
     "evalue": "unexpected indent (1859829144.py, line 9)",
     "output_type": "error",
     "traceback": [
      "\u001b[0;36m  Cell \u001b[0;32mIn[7], line 9\u001b[0;36m\u001b[0m\n\u001b[0;31m    .config(\"spark.executor.cores\", \"1\")  # Number of cores to use per executor\u001b[0m\n\u001b[0m    ^\u001b[0m\n\u001b[0;31mIndentationError\u001b[0m\u001b[0;31m:\u001b[0m unexpected indent\n"
     ]
    }
   ],
   "source": [
    "import findspark\n",
    "findspark.init('/opt/spark/spark-3.4.4-bin-hadoop3')  # Set to the Spark root directory\n",
    "from pyspark.sql import SparkSession\n",
    "\n",
    "# Initialize Spark session with specific resource limits\n",
    "spark = SparkSession.builder \\\n",
    "    .appName(\"IntrusionDetection\") \\\n",
    "    .config(\"spark.executor.memory\", \"3g\")  # Amount of memory to use per executor process\n",
    "    .config(\"spark.executor.cores\", \"1\")  # Number of cores to use per executor\n",
    "    .config(\"spark.driver.memory\", \"3g\")  # Amount of memory to use for the driver process\n",
    "    .config(\"spark.driver.cores\", \"1\")  # Number of cores to use for the driver process\n",
    "    .config(\"spark.cores.max\", \"2\")  # Maximum total cores to allocate for the application\n",
    "    .getOrCreate()\n"
   ]
  },
  {
   "cell_type": "code",
   "execution_count": 9,
   "id": "bc06587f-4151-4cb0-bf6b-9e22e537ebb6",
   "metadata": {},
   "outputs": [],
   "source": [
    "# Define the path to the dataset in HDFS\n",
    "hdfs_path = \"hdfs://localhost:54310/datasets/NF-UQ-NIDS-v2.csv\"  # Adjust the filename if necessary\n",
    "# Define the path to the dataset in HDFS\n",
    "#hdfs_path = \"hdfs:///datasets/NF-UQ-NIDS-v2/dataset.csv\"  # Adjust the filename if necessary\n"
   ]
  },
  {
   "cell_type": "code",
   "execution_count": 10,
   "id": "e0a6f774-97df-4fb2-aaf4-6ee7073cdadc",
   "metadata": {},
   "outputs": [
    {
     "name": "stderr",
     "output_type": "stream",
     "text": [
      "                                                                                \r"
     ]
    }
   ],
   "source": [
    "df = spark.read.csv(hdfs_path, header=True, inferSchema=True)"
   ]
  },
  {
   "cell_type": "code",
   "execution_count": 12,
   "id": "6e077233-23f8-4e9c-8d08-4ffce0c0a756",
   "metadata": {},
   "outputs": [
    {
     "name": "stdout",
     "output_type": "stream",
     "text": [
      "root\n",
      " |-- IPV4_SRC_ADDR: string (nullable = true)\n",
      " |-- L4_SRC_PORT: integer (nullable = true)\n",
      " |-- IPV4_DST_ADDR: string (nullable = true)\n",
      " |-- L4_DST_PORT: integer (nullable = true)\n",
      " |-- PROTOCOL: integer (nullable = true)\n",
      " |-- L7_PROTO: double (nullable = true)\n",
      " |-- IN_BYTES: integer (nullable = true)\n",
      " |-- IN_PKTS: integer (nullable = true)\n",
      " |-- OUT_BYTES: integer (nullable = true)\n",
      " |-- OUT_PKTS: integer (nullable = true)\n",
      " |-- TCP_FLAGS: integer (nullable = true)\n",
      " |-- CLIENT_TCP_FLAGS: integer (nullable = true)\n",
      " |-- SERVER_TCP_FLAGS: integer (nullable = true)\n",
      " |-- FLOW_DURATION_MILLISECONDS: integer (nullable = true)\n",
      " |-- DURATION_IN: integer (nullable = true)\n",
      " |-- DURATION_OUT: integer (nullable = true)\n",
      " |-- MIN_TTL: integer (nullable = true)\n",
      " |-- MAX_TTL: integer (nullable = true)\n",
      " |-- LONGEST_FLOW_PKT: integer (nullable = true)\n",
      " |-- SHORTEST_FLOW_PKT: integer (nullable = true)\n",
      " |-- MIN_IP_PKT_LEN: integer (nullable = true)\n",
      " |-- MAX_IP_PKT_LEN: integer (nullable = true)\n",
      " |-- SRC_TO_DST_SECOND_BYTES: double (nullable = true)\n",
      " |-- DST_TO_SRC_SECOND_BYTES: double (nullable = true)\n",
      " |-- RETRANSMITTED_IN_BYTES: integer (nullable = true)\n",
      " |-- RETRANSMITTED_IN_PKTS: integer (nullable = true)\n",
      " |-- RETRANSMITTED_OUT_BYTES: integer (nullable = true)\n",
      " |-- RETRANSMITTED_OUT_PKTS: integer (nullable = true)\n",
      " |-- SRC_TO_DST_AVG_THROUGHPUT: long (nullable = true)\n",
      " |-- DST_TO_SRC_AVG_THROUGHPUT: long (nullable = true)\n",
      " |-- NUM_PKTS_UP_TO_128_BYTES: integer (nullable = true)\n",
      " |-- NUM_PKTS_128_TO_256_BYTES: integer (nullable = true)\n",
      " |-- NUM_PKTS_256_TO_512_BYTES: integer (nullable = true)\n",
      " |-- NUM_PKTS_512_TO_1024_BYTES: integer (nullable = true)\n",
      " |-- NUM_PKTS_1024_TO_1514_BYTES: integer (nullable = true)\n",
      " |-- TCP_WIN_MAX_IN: integer (nullable = true)\n",
      " |-- TCP_WIN_MAX_OUT: integer (nullable = true)\n",
      " |-- ICMP_TYPE: integer (nullable = true)\n",
      " |-- ICMP_IPV4_TYPE: integer (nullable = true)\n",
      " |-- DNS_QUERY_ID: integer (nullable = true)\n",
      " |-- DNS_QUERY_TYPE: integer (nullable = true)\n",
      " |-- DNS_TTL_ANSWER: long (nullable = true)\n",
      " |-- FTP_COMMAND_RET_CODE: double (nullable = true)\n",
      " |-- Label: integer (nullable = true)\n",
      " |-- Attack: string (nullable = true)\n",
      " |-- Dataset: string (nullable = true)\n",
      "\n"
     ]
    },
    {
     "name": "stderr",
     "output_type": "stream",
     "text": [
      "24/11/07 19:58:48 WARN package: Truncated the string representation of a plan since it was too large. This behavior can be adjusted by setting 'spark.sql.debug.maxToStringFields'.\n",
      "[Stage 4:>                                                          (0 + 1) / 1]\r"
     ]
    },
    {
     "name": "stdout",
     "output_type": "stream",
     "text": [
      "+-------+-------------+------------------+-------------+-----------------+------------------+-----------------+------------------+-----------------+------------------+-----------------+------------------+------------------+------------------+--------------------------+-----------------+------------------+------------------+-----------------+------------------+-----------------+------------------+------------------+-----------------------+-----------------------+----------------------+---------------------+-----------------------+----------------------+-------------------------+-------------------------+------------------------+-------------------------+-------------------------+--------------------------+---------------------------+------------------+------------------+-----------------+-----------------+------------------+------------------+------------------+--------------------+------------------+--------+---------------+\n",
      "|summary|IPV4_SRC_ADDR|       L4_SRC_PORT|IPV4_DST_ADDR|      L4_DST_PORT|          PROTOCOL|         L7_PROTO|          IN_BYTES|          IN_PKTS|         OUT_BYTES|         OUT_PKTS|         TCP_FLAGS|  CLIENT_TCP_FLAGS|  SERVER_TCP_FLAGS|FLOW_DURATION_MILLISECONDS|      DURATION_IN|      DURATION_OUT|           MIN_TTL|          MAX_TTL|  LONGEST_FLOW_PKT|SHORTEST_FLOW_PKT|    MIN_IP_PKT_LEN|    MAX_IP_PKT_LEN|SRC_TO_DST_SECOND_BYTES|DST_TO_SRC_SECOND_BYTES|RETRANSMITTED_IN_BYTES|RETRANSMITTED_IN_PKTS|RETRANSMITTED_OUT_BYTES|RETRANSMITTED_OUT_PKTS|SRC_TO_DST_AVG_THROUGHPUT|DST_TO_SRC_AVG_THROUGHPUT|NUM_PKTS_UP_TO_128_BYTES|NUM_PKTS_128_TO_256_BYTES|NUM_PKTS_256_TO_512_BYTES|NUM_PKTS_512_TO_1024_BYTES|NUM_PKTS_1024_TO_1514_BYTES|    TCP_WIN_MAX_IN|   TCP_WIN_MAX_OUT|        ICMP_TYPE|   ICMP_IPV4_TYPE|      DNS_QUERY_ID|    DNS_QUERY_TYPE|    DNS_TTL_ANSWER|FTP_COMMAND_RET_CODE|             Label|  Attack|        Dataset|\n",
      "+-------+-------------+------------------+-------------+-----------------+------------------+-----------------+------------------+-----------------+------------------+-----------------+------------------+------------------+------------------+--------------------------+-----------------+------------------+------------------+-----------------+------------------+-----------------+------------------+------------------+-----------------------+-----------------------+----------------------+---------------------+-----------------------+----------------------+-------------------------+-------------------------+------------------------+-------------------------+-------------------------+--------------------------+---------------------------+------------------+------------------+-----------------+-----------------+------------------+------------------+------------------+--------------------+------------------+--------+---------------+\n",
      "|  count|     75987976|          75987976|     75987976|         75987976|          75987976|         75987976|          75987976|         75987976|          75987976|         75987976|          75987976|          75987976|          75987976|                  75987976|         75987976|          75987976|          75987976|         75987976|          75987976|         75987976|          75987976|          75987976|               75987976|               75987976|              75987976|             75987976|               75987976|              75987976|                 75987976|                 75987976|                75987976|                 75987976|                 75987976|                  75987976|                   75987976|          75987976|          75987976|         75987976|         75987976|          75987976|          75987976|          75987976|            75987976|          75987976|75987976|       75987976|\n",
      "|   mean|         null|40398.338208889785|         null|3336.835107517537|10.247083578065036|53.31183304869686|1029.5340386221105|9.662047571842155|3116.2212573868264|4.722149198973269| 24.16826992470493|22.164622071260325|  9.51846613206279|         2315190.587616954|533.4617826904614|14.830757618810638|53.593917950913706| 53.6517743280858|264.86331162446015| 62.7776641004361|23.582000894457302|264.86331162446015|   2.040588355953292...|   2.463793714826146...|     78.43725227001704|  0.39389230475095166|      568.3953973586558|    0.5726637330095488|       2847345.4971513916|        7205773.168111965|       29.09634600611023|       0.9676467497963098|      0.36456773108419155|        0.3700401100300395|          2.019031313585718| 6006.523034539044| 8382.782375095765|3749.752313852918|14.64745801362047| 4524.422103899701|1.4077446673931675|19870.159318508497|    1.51512914358977|0.6688253020451551|    null|           null|\n",
      "| stddev|         null| 18413.35975094483|         null| 10659.9639333031| 5.641418228180131|78.90932610522903|107346.44691982033|599.7798198306356|263347.41634031665|213.0038495893294|58.433996193338196| 58.51013788137136|18.037666097628037|         2140388.092283884|847.5262982165216|113.78847031309567| 39.55919160753938|39.59975804561248| 430.3351361199158|44.82738569100848|26.981311745765126| 430.3351361199158|                    NaN|               Infinity|     6983.825477773818|   11.630251415944326|     14447.401646059456|    10.380102460007848|      1.570953059153987E7|     6.6195318588321224E7|      1601.1786183666031|       17.134716086908238|       17.371948540812294|        49.040027872599445|          179.5986451266384|13218.279048601162|17704.126865844428|11535.69724788917|45.06129156210396|13313.891760014076|23.746322554080457| 8955740.302768406|  20.389193502724687|0.4706357618204035|    null|           null|\n",
      "|    min|      0.0.0.0|                 0|      0.0.0.0|                0|                 0|              0.0|                 1|                1|                 0|                0|                 0|                 0|                 0|                         0|                0|                 0|                 0|                0|                28|               28|                 0|                28|                    0.0|                    0.0|                     0|                    0|                      0|                     0|                        0|                        0|                       0|                        0|                        0|                         0|                          0|                 0|                 0|                0|                0|                 0|                 0|                 0|                 0.0|                 0|Analysis|  NF-BoT-IoT-v2|\n",
      "|    max| 99.99.45.194|             65535| 99.99.99.142|            65535|               255|            248.0|         301926201|           469281|         275639781|           410903|               223|               223|               223|                   4294967|           119574|            119558|               255|              255|             65535|             3990|              1260|             65535|   8.91211152106772E304|   1.87216383510445E257|              15120489|                13796|                7329139|                  5536|               4277408000|               4294480000|                  475657|                    73465|                    47667|                     38812|                     200984|             65535|             65535|            65317|              255|             65535|             55937|        4294915672|               553.0|                 1|     xss|NF-UNSW-NB15-v2|\n",
      "+-------+-------------+------------------+-------------+-----------------+------------------+-----------------+------------------+-----------------+------------------+-----------------+------------------+------------------+------------------+--------------------------+-----------------+------------------+------------------+-----------------+------------------+-----------------+------------------+------------------+-----------------------+-----------------------+----------------------+---------------------+-----------------------+----------------------+-------------------------+-------------------------+------------------------+-------------------------+-------------------------+--------------------------+---------------------------+------------------+------------------+-----------------+-----------------+------------------+------------------+------------------+--------------------+------------------+--------+---------------+\n",
      "\n"
     ]
    },
    {
     "name": "stderr",
     "output_type": "stream",
     "text": [
      "                                                                                \r"
     ]
    }
   ],
   "source": [
    "# Display the schema of the DataFrame\n",
    "df.printSchema()\n",
    "\n",
    "# Show summary statistics of the dataset\n",
    "df.describe().show()\n"
   ]
  },
  {
   "cell_type": "code",
   "execution_count": 11,
   "id": "33e234c2-9641-4dc6-ad25-d230f20c0298",
   "metadata": {},
   "outputs": [
    {
     "name": "stderr",
     "output_type": "stream",
     "text": [
      "24/11/08 14:42:05 WARN package: Truncated the string representation of a plan since it was too large. This behavior can be adjusted by setting 'spark.sql.debug.maxToStringFields'.\n",
      "                                                                                \r"
     ]
    },
    {
     "name": "stdout",
     "output_type": "stream",
     "text": [
      "+-------------+-----------+-------------+-----------+--------+--------+--------+-------+---------+--------+---------+----------------+----------------+--------------------------+-----------+------------+-------+-------+----------------+-----------------+--------------+--------------+-----------------------+-----------------------+----------------------+---------------------+-----------------------+----------------------+-------------------------+-------------------------+------------------------+-------------------------+-------------------------+--------------------------+---------------------------+--------------+---------------+---------+--------------+------------+--------------+--------------+--------------------+-----+------+-------+\n",
      "|IPV4_SRC_ADDR|L4_SRC_PORT|IPV4_DST_ADDR|L4_DST_PORT|PROTOCOL|L7_PROTO|IN_BYTES|IN_PKTS|OUT_BYTES|OUT_PKTS|TCP_FLAGS|CLIENT_TCP_FLAGS|SERVER_TCP_FLAGS|FLOW_DURATION_MILLISECONDS|DURATION_IN|DURATION_OUT|MIN_TTL|MAX_TTL|LONGEST_FLOW_PKT|SHORTEST_FLOW_PKT|MIN_IP_PKT_LEN|MAX_IP_PKT_LEN|SRC_TO_DST_SECOND_BYTES|DST_TO_SRC_SECOND_BYTES|RETRANSMITTED_IN_BYTES|RETRANSMITTED_IN_PKTS|RETRANSMITTED_OUT_BYTES|RETRANSMITTED_OUT_PKTS|SRC_TO_DST_AVG_THROUGHPUT|DST_TO_SRC_AVG_THROUGHPUT|NUM_PKTS_UP_TO_128_BYTES|NUM_PKTS_128_TO_256_BYTES|NUM_PKTS_256_TO_512_BYTES|NUM_PKTS_512_TO_1024_BYTES|NUM_PKTS_1024_TO_1514_BYTES|TCP_WIN_MAX_IN|TCP_WIN_MAX_OUT|ICMP_TYPE|ICMP_IPV4_TYPE|DNS_QUERY_ID|DNS_QUERY_TYPE|DNS_TTL_ANSWER|FTP_COMMAND_RET_CODE|Label|Attack|Dataset|\n",
      "+-------------+-----------+-------------+-----------+--------+--------+--------+-------+---------+--------+---------+----------------+----------------+--------------------------+-----------+------------+-------+-------+----------------+-----------------+--------------+--------------+-----------------------+-----------------------+----------------------+---------------------+-----------------------+----------------------+-------------------------+-------------------------+------------------------+-------------------------+-------------------------+--------------------------+---------------------------+--------------+---------------+---------+--------------+------------+--------------+--------------+--------------------+-----+------+-------+\n",
      "|            0|          0|            0|          0|       0|       0|       0|      0|        0|       0|        0|               0|               0|                         0|          0|           0|      0|      0|               0|                0|             0|             0|                      0|                      0|                     0|                    0|                      0|                     0|                        0|                        0|                       0|                        0|                        0|                         0|                          0|             0|              0|        0|             0|           0|             0|             0|                   0|    0|     0|      0|\n",
      "+-------------+-----------+-------------+-----------+--------+--------+--------+-------+---------+--------+---------+----------------+----------------+--------------------------+-----------+------------+-------+-------+----------------+-----------------+--------------+--------------+-----------------------+-----------------------+----------------------+---------------------+-----------------------+----------------------+-------------------------+-------------------------+------------------------+-------------------------+-------------------------+--------------------------+---------------------------+--------------+---------------+---------+--------------+------------+--------------+--------------+--------------------+-----+------+-------+\n",
      "\n"
     ]
    },
    {
     "name": "stderr",
     "output_type": "stream",
     "text": [
      "[Stage 7:===================================================>       (7 + 1) / 8]\r"
     ]
    },
    {
     "name": "stdout",
     "output_type": "stream",
     "text": [
      "+-------------+-----------+-------------+-----------+--------+--------+--------+-------+---------+--------+---------+----------------+----------------+--------------------------+-----------+------------+-------+-------+----------------+-----------------+--------------+--------------+-----------------------+-----------------------+----------------------+---------------------+-----------------------+----------------------+-------------------------+-------------------------+------------------------+-------------------------+-------------------------+--------------------------+---------------------------+--------------+---------------+---------+--------------+------------+--------------+--------------+--------------------+-----+------+-------+\n",
      "|IPV4_SRC_ADDR|L4_SRC_PORT|IPV4_DST_ADDR|L4_DST_PORT|PROTOCOL|L7_PROTO|IN_BYTES|IN_PKTS|OUT_BYTES|OUT_PKTS|TCP_FLAGS|CLIENT_TCP_FLAGS|SERVER_TCP_FLAGS|FLOW_DURATION_MILLISECONDS|DURATION_IN|DURATION_OUT|MIN_TTL|MAX_TTL|LONGEST_FLOW_PKT|SHORTEST_FLOW_PKT|MIN_IP_PKT_LEN|MAX_IP_PKT_LEN|SRC_TO_DST_SECOND_BYTES|DST_TO_SRC_SECOND_BYTES|RETRANSMITTED_IN_BYTES|RETRANSMITTED_IN_PKTS|RETRANSMITTED_OUT_BYTES|RETRANSMITTED_OUT_PKTS|SRC_TO_DST_AVG_THROUGHPUT|DST_TO_SRC_AVG_THROUGHPUT|NUM_PKTS_UP_TO_128_BYTES|NUM_PKTS_128_TO_256_BYTES|NUM_PKTS_256_TO_512_BYTES|NUM_PKTS_512_TO_1024_BYTES|NUM_PKTS_1024_TO_1514_BYTES|TCP_WIN_MAX_IN|TCP_WIN_MAX_OUT|ICMP_TYPE|ICMP_IPV4_TYPE|DNS_QUERY_ID|DNS_QUERY_TYPE|DNS_TTL_ANSWER|FTP_COMMAND_RET_CODE|Label|Attack|Dataset|\n",
      "+-------------+-----------+-------------+-----------+--------+--------+--------+-------+---------+--------+---------+----------------+----------------+--------------------------+-----------+------------+-------+-------+----------------+-----------------+--------------+--------------+-----------------------+-----------------------+----------------------+---------------------+-----------------------+----------------------+-------------------------+-------------------------+------------------------+-------------------------+-------------------------+--------------------------+---------------------------+--------------+---------------+---------+--------------+------------+--------------+--------------+--------------------+-----+------+-------+\n",
      "|       247700|      65536|        40529|      65536|     256|     375|   57309|  11233|   141218|    5579|       53|              51|              44|                      5225|       5209|        2531|    191|    190|            2040|             1235|           228|          2040|                 336053|                 247825|                 13386|                  794|                  18944|                   793|                    27868|                   106036|                   25827|                     2260|                     1456|                      1998|                       5035|         54852|          13895|     1975|           256|       65536|            27|         13003|                  21|    2|    21|      4|\n",
      "+-------------+-----------+-------------+-----------+--------+--------+--------+-------+---------+--------+---------+----------------+----------------+--------------------------+-----------+------------+-------+-------+----------------+-----------------+--------------+--------------+-----------------------+-----------------------+----------------------+---------------------+-----------------------+----------------------+-------------------------+-------------------------+------------------------+-------------------------+-------------------------+--------------------------+---------------------------+--------------+---------------+---------+--------------+------------+--------------+--------------+--------------------+-----+------+-------+\n",
      "\n"
     ]
    },
    {
     "name": "stderr",
     "output_type": "stream",
     "text": [
      "                                                                                \r"
     ]
    }
   ],
   "source": [
    "# Import necessary functions from PySpark\n",
    "from pyspark.sql.functions import col, sum as spark_sum, countDistinct\n",
    "\n",
    "# Check for missing values in each column\n",
    "missing_values = df.select([(spark_sum(col(c).isNull().cast(\"int\")).alias(c)) for c in df.columns])\n",
    "missing_values.show()\n",
    "\n",
    "# Get the unique count of values for each column\n",
    "unique_counts = df.agg(*[countDistinct(col(c)).alias(c) for c in df.columns])\n",
    "unique_counts.show()\n"
   ]
  },
  {
   "cell_type": "code",
   "execution_count": null,
   "id": "f3e4c175-ed0c-4a4c-8b8e-7f82afe14611",
   "metadata": {},
   "outputs": [
    {
     "name": "stderr",
     "output_type": "stream",
     "text": [
      "[Stage 11:==>                                                     (4 + 4) / 103]\r"
     ]
    }
   ],
   "source": [
    "from pyspark.sql.functions import col\n",
    "\n",
    "# Define categorical and continuous features based on unique value counts and feature characteristics\n",
    "categorical_features = [\n",
    "    \"PROTOCOL\", \"TCP_FLAGS\", \"CLIENT_TCP_FLAGS\", \"SERVER_TCP_FLAGS\", \n",
    "    \"ICMP_TYPE\", \"ICMP_IPV4_TYPE\", \"DNS_QUERY_ID\", \"DNS_QUERY_TYPE\", \n",
    "    \"Label\", \"Attack\", \"Dataset\"\n",
    "]\n",
    "\n",
    "continuous_features = [\n",
    "    \"L4_SRC_PORT\", \"L4_DST_PORT\", \"IN_BYTES\", \"IN_PKTS\", \"OUT_BYTES\", \n",
    "    \"OUT_PKTS\", \"FLOW_DURATION_MILLISECONDS\", \"DURATION_IN\", \"DURATION_OUT\", \n",
    "    \"MIN_TTL\", \"MAX_TTL\", \"LONGEST_FLOW_PKT\", \"SHORTEST_FLOW_PKT\", \n",
    "    \"MIN_IP_PKT_LEN\", \"MAX_IP_PKT_LEN\", \"SRC_TO_DST_SECOND_BYTES\", \n",
    "    \"DST_TO_SRC_SECOND_BYTES\", \"RETRANSMITTED_IN_BYTES\", \"RETRANSMITTED_IN_PKTS\", \n",
    "    \"RETRANSMITTED_OUT_BYTES\", \"RETRANSMITTED_OUT_PKTS\", \"SRC_TO_DST_AVG_THROUGHPUT\", \n",
    "    \"DST_TO_SRC_AVG_THROUGHPUT\", \"NUM_PKTS_UP_TO_128_BYTES\", \"NUM_PKTS_128_TO_256_BYTES\", \n",
    "    \"NUM_PKTS_256_TO_512_BYTES\", \"NUM_PKTS_512_TO_1024_BYTES\", \"NUM_PKTS_1024_TO_1514_BYTES\", \n",
    "    \"TCP_WIN_MAX_IN\", \"TCP_WIN_MAX_OUT\", \"FTP_COMMAND_RET_CODE\"\n",
    "]\n",
    "\n",
    "# Show summary statistics for continuous features\n",
    "df.select([col(c) for c in continuous_features]).describe().show()\n",
    "\n",
    "# Show unique value counts for categorical features\n",
    "for feature in categorical_features:\n",
    "    df.select(feature).distinct().show(truncate=False)\n"
   ]
  }
 ],
 "metadata": {
  "kernelspec": {
   "display_name": "Python 3 (ipykernel)",
   "language": "python",
   "name": "python3"
  },
  "language_info": {
   "codemirror_mode": {
    "name": "ipython",
    "version": 3
   },
   "file_extension": ".py",
   "mimetype": "text/x-python",
   "name": "python",
   "nbconvert_exporter": "python",
   "pygments_lexer": "ipython3",
   "version": "3.8.10"
  }
 },
 "nbformat": 4,
 "nbformat_minor": 5
}
